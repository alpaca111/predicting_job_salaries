{
 "cells": [
  {
   "cell_type": "markdown",
   "metadata": {},
   "source": [
    "\n",
    "# Part 2 : Cleaning the data"
   ]
  },
  {
   "cell_type": "code",
   "execution_count": 1,
   "metadata": {},
   "outputs": [],
   "source": [
    "import numpy as np\n",
    "import scipy.stats as stats\n",
    "import pandas as pd\n",
    "import regex as re"
   ]
  },
  {
   "cell_type": "code",
   "execution_count": 2,
   "metadata": {},
   "outputs": [],
   "source": [
    "london_raw = pd.read_csv('london.csv')\n",
    "mach_raw = pd.read_csv('manchester.csv')\n",
    "birm_raw = pd.read_csv('birmingham.csv')\n",
    "leeds_raw = pd.read_csv('leeds.csv')\n",
    "glas_raw = pd.read_csv('glasgow.csv')\n",
    "southamp_raw = pd.read_csv('southampton.csv')\n",
    "livp_raw = pd.read_csv('liverpool.csv')\n",
    "newcas_raw = pd.read_csv('newcastle.csv')"
   ]
  },
  {
   "cell_type": "code",
   "execution_count": 3,
   "metadata": {},
   "outputs": [],
   "source": [
    "#list of all df's \n",
    "city_df_list = [london_raw, mach_raw, birm_raw, leeds_raw, glas_raw, southamp_raw, livp_raw, newcas_raw]\n",
    "city_list = ['london','manchester','birmingham','leeds','glasgow','southampton','liverpool','newcastle']"
   ]
  },
  {
   "cell_type": "code",
   "execution_count": 4,
   "metadata": {},
   "outputs": [],
   "source": [
    "for df,city in zip(city_df_list,city_list):\n",
    "    df['city'] = '{}'.format(city)        "
   ]
  },
  {
   "cell_type": "markdown",
   "metadata": {},
   "source": [
    "Combining all city dataframes together"
   ]
  },
  {
   "cell_type": "code",
   "execution_count": 5,
   "metadata": {},
   "outputs": [
    {
     "data": {
      "text/html": [
       "<div>\n",
       "<style scoped>\n",
       "    .dataframe tbody tr th:only-of-type {\n",
       "        vertical-align: middle;\n",
       "    }\n",
       "\n",
       "    .dataframe tbody tr th {\n",
       "        vertical-align: top;\n",
       "    }\n",
       "\n",
       "    .dataframe thead th {\n",
       "        text-align: right;\n",
       "    }\n",
       "</style>\n",
       "<table border=\"1\" class=\"dataframe\">\n",
       "  <thead>\n",
       "    <tr style=\"text-align: right;\">\n",
       "      <th></th>\n",
       "      <th>jobtitle</th>\n",
       "      <th>company</th>\n",
       "      <th>salary</th>\n",
       "      <th>location</th>\n",
       "      <th>city</th>\n",
       "    </tr>\n",
       "  </thead>\n",
       "  <tbody>\n",
       "    <tr>\n",
       "      <th>0</th>\n",
       "      <td>Data Comms Engineer/ Data Cable Engineer</td>\n",
       "      <td>Installation Technology</td>\n",
       "      <td>£115 - £125 a day</td>\n",
       "      <td>London WC2R 2LS</td>\n",
       "      <td>london</td>\n",
       "    </tr>\n",
       "    <tr>\n",
       "      <th>1</th>\n",
       "      <td>Big Data Engineer</td>\n",
       "      <td>The App Experts</td>\n",
       "      <td>£30,000 - £35,000 a year</td>\n",
       "      <td>London</td>\n",
       "      <td>london</td>\n",
       "    </tr>\n",
       "    <tr>\n",
       "      <th>2</th>\n",
       "      <td>Remote Data Scientist / Machine Learning Engin...</td>\n",
       "      <td>GCS Recruitment Specialists Ltd</td>\n",
       "      <td>£40,000 - £90,000 a year</td>\n",
       "      <td>London</td>\n",
       "      <td>london</td>\n",
       "    </tr>\n",
       "    <tr>\n",
       "      <th>3</th>\n",
       "      <td>Data and Research Analyst</td>\n",
       "      <td>Cancer Research UK</td>\n",
       "      <td>£31,000 a year</td>\n",
       "      <td>Stratford</td>\n",
       "      <td>london</td>\n",
       "    </tr>\n",
       "    <tr>\n",
       "      <th>4</th>\n",
       "      <td>Machine Learning Research Scientist</td>\n",
       "      <td>nPlan</td>\n",
       "      <td>None</td>\n",
       "      <td>London</td>\n",
       "      <td>london</td>\n",
       "    </tr>\n",
       "    <tr>\n",
       "      <th>...</th>\n",
       "      <td>...</td>\n",
       "      <td>...</td>\n",
       "      <td>...</td>\n",
       "      <td>...</td>\n",
       "      <td>...</td>\n",
       "    </tr>\n",
       "    <tr>\n",
       "      <th>5274</th>\n",
       "      <td>Junior DevOps Engineer</td>\n",
       "      <td>DXC</td>\n",
       "      <td>None</td>\n",
       "      <td>Newcastle upon Tyne</td>\n",
       "      <td>newcastle</td>\n",
       "    </tr>\n",
       "    <tr>\n",
       "      <th>5275</th>\n",
       "      <td>Change &amp; Config Analyst</td>\n",
       "      <td>Northgate Public Services</td>\n",
       "      <td>None</td>\n",
       "      <td>Hartlepool TS24</td>\n",
       "      <td>newcastle</td>\n",
       "    </tr>\n",
       "    <tr>\n",
       "      <th>5276</th>\n",
       "      <td>Workforce Forecasting &amp; Planning Analyst</td>\n",
       "      <td>Sitel</td>\n",
       "      <td>None</td>\n",
       "      <td>United Kingdom</td>\n",
       "      <td>newcastle</td>\n",
       "    </tr>\n",
       "    <tr>\n",
       "      <th>5277</th>\n",
       "      <td>Printed Circuit Board Design Engineer</td>\n",
       "      <td>TURBO POWER SYSTEMS</td>\n",
       "      <td>£33,000 a year</td>\n",
       "      <td>Gateshead NE11 0QD</td>\n",
       "      <td>newcastle</td>\n",
       "    </tr>\n",
       "    <tr>\n",
       "      <th>5278</th>\n",
       "      <td>Technicians (Mechanical or E&amp;I Engineer) - Nor...</td>\n",
       "      <td>Essity</td>\n",
       "      <td>None</td>\n",
       "      <td>Newcastle upon Tyne</td>\n",
       "      <td>newcastle</td>\n",
       "    </tr>\n",
       "  </tbody>\n",
       "</table>\n",
       "<p>5279 rows × 5 columns</p>\n",
       "</div>"
      ],
      "text/plain": [
       "                                               jobtitle  \\\n",
       "0              Data Comms Engineer/ Data Cable Engineer   \n",
       "1                                     Big Data Engineer   \n",
       "2     Remote Data Scientist / Machine Learning Engin...   \n",
       "3                             Data and Research Analyst   \n",
       "4                   Machine Learning Research Scientist   \n",
       "...                                                 ...   \n",
       "5274                             Junior DevOps Engineer   \n",
       "5275                            Change & Config Analyst   \n",
       "5276           Workforce Forecasting & Planning Analyst   \n",
       "5277              Printed Circuit Board Design Engineer   \n",
       "5278  Technicians (Mechanical or E&I Engineer) - Nor...   \n",
       "\n",
       "                              company                    salary  \\\n",
       "0             Installation Technology         £115 - £125 a day   \n",
       "1                     The App Experts  £30,000 - £35,000 a year   \n",
       "2     GCS Recruitment Specialists Ltd  £40,000 - £90,000 a year   \n",
       "3                  Cancer Research UK            £31,000 a year   \n",
       "4                               nPlan                      None   \n",
       "...                               ...                       ...   \n",
       "5274                              DXC                      None   \n",
       "5275        Northgate Public Services                      None   \n",
       "5276                            Sitel                      None   \n",
       "5277              TURBO POWER SYSTEMS            £33,000 a year   \n",
       "5278                           Essity                      None   \n",
       "\n",
       "                 location       city  \n",
       "0         London WC2R 2LS     london  \n",
       "1                  London     london  \n",
       "2                  London     london  \n",
       "3               Stratford     london  \n",
       "4                  London     london  \n",
       "...                   ...        ...  \n",
       "5274  Newcastle upon Tyne  newcastle  \n",
       "5275      Hartlepool TS24  newcastle  \n",
       "5276       United Kingdom  newcastle  \n",
       "5277   Gateshead NE11 0QD  newcastle  \n",
       "5278  Newcastle upon Tyne  newcastle  \n",
       "\n",
       "[5279 rows x 5 columns]"
      ]
     },
     "execution_count": 5,
     "metadata": {},
     "output_type": "execute_result"
    }
   ],
   "source": [
    "df_raw = pd.concat(city_df_list, ignore_index = True)\n",
    "df_raw.drop(columns=['Unnamed: 0'],inplace=True)\n",
    "df_raw"
   ]
  },
  {
   "cell_type": "markdown",
   "metadata": {
    "focus": false,
    "id": "ff98ce64-78a7-441f-a675-63464e32c834"
   },
   "source": [
    "### Cleaning salary data\n",
    "Salary data is sometimes in form of a range, or string calculated hourly, daily, weekly or yearly. \n",
    "- Eliminate empty or 0 salary rows \n",
    "- Eliminate duplicate values\n",
    "- Fix salaries that given as text or with ranges.\n",
    "- Extract whether its short_term pay or long_term (define hour/day/week as short_term, month/year as long_term)\n"
   ]
  },
  {
   "cell_type": "code",
   "execution_count": 6,
   "metadata": {
    "focus": false,
    "id": "58533e57-f86b-494a-b841-e7b59c6229c6",
    "scrolled": false
   },
   "outputs": [
    {
     "name": "stdout",
     "output_type": "stream",
     "text": [
      "n. of entries: 5279\n",
      "n. of entries after salary clean: 2197\n",
      "n. of entries after duplicate clean: 1691\n"
     ]
    }
   ],
   "source": [
    "print(\"n. of entries:\", len(df_raw))\n",
    "df_raw = df_raw[df_raw['salary'] != 'None'].copy() #removing rows with empty salaries\n",
    "df_raw = df_raw[~(df_raw.salary == 0)]\n",
    "print(\"n. of entries after salary clean:\",len(df_raw))\n",
    "df_raw = df_raw[~df_raw.duplicated()] #removing duplicate rows with boolean mask\n",
    "print(\"n. of entries after duplicate clean:\",len(df_raw))\n",
    "df_raw.reset_index(inplace=True,drop=True) #resetting index"
   ]
  },
  {
   "cell_type": "code",
   "execution_count": 7,
   "metadata": {},
   "outputs": [
    {
     "name": "stdout",
     "output_type": "stream",
     "text": [
      "index list length:  1392\n",
      "mask list length:  1691\n"
     ]
    },
    {
     "data": {
      "text/html": [
       "<div>\n",
       "<style scoped>\n",
       "    .dataframe tbody tr th:only-of-type {\n",
       "        vertical-align: middle;\n",
       "    }\n",
       "\n",
       "    .dataframe tbody tr th {\n",
       "        vertical-align: top;\n",
       "    }\n",
       "\n",
       "    .dataframe thead th {\n",
       "        text-align: right;\n",
       "    }\n",
       "</style>\n",
       "<table border=\"1\" class=\"dataframe\">\n",
       "  <thead>\n",
       "    <tr style=\"text-align: right;\">\n",
       "      <th></th>\n",
       "      <th>jobtitle</th>\n",
       "      <th>company</th>\n",
       "      <th>salary</th>\n",
       "      <th>location</th>\n",
       "      <th>city</th>\n",
       "    </tr>\n",
       "  </thead>\n",
       "  <tbody>\n",
       "    <tr>\n",
       "      <th>0</th>\n",
       "      <td>Data Comms Engineer/ Data Cable Engineer</td>\n",
       "      <td>Installation Technology</td>\n",
       "      <td>£115 - £125 a day</td>\n",
       "      <td>London WC2R 2LS</td>\n",
       "      <td>london</td>\n",
       "    </tr>\n",
       "    <tr>\n",
       "      <th>1</th>\n",
       "      <td>Big Data Engineer</td>\n",
       "      <td>The App Experts</td>\n",
       "      <td>£30,000 - £35,000 a year</td>\n",
       "      <td>London</td>\n",
       "      <td>london</td>\n",
       "    </tr>\n",
       "    <tr>\n",
       "      <th>2</th>\n",
       "      <td>Remote Data Scientist / Machine Learning Engin...</td>\n",
       "      <td>GCS Recruitment Specialists Ltd</td>\n",
       "      <td>£40,000 - £90,000 a year</td>\n",
       "      <td>London</td>\n",
       "      <td>london</td>\n",
       "    </tr>\n",
       "    <tr>\n",
       "      <th>3</th>\n",
       "      <td>Data and Research Analyst</td>\n",
       "      <td>Cancer Research UK</td>\n",
       "      <td>£31,000 a year</td>\n",
       "      <td>Stratford</td>\n",
       "      <td>london</td>\n",
       "    </tr>\n",
       "    <tr>\n",
       "      <th>4</th>\n",
       "      <td>Data Scientist / Machine Learning Engineer</td>\n",
       "      <td>Blue Pelican</td>\n",
       "      <td>£50,000 - £65,000 a year</td>\n",
       "      <td>London</td>\n",
       "      <td>london</td>\n",
       "    </tr>\n",
       "    <tr>\n",
       "      <th>...</th>\n",
       "      <td>...</td>\n",
       "      <td>...</td>\n",
       "      <td>...</td>\n",
       "      <td>...</td>\n",
       "      <td>...</td>\n",
       "    </tr>\n",
       "    <tr>\n",
       "      <th>1387</th>\n",
       "      <td>Senior Developer - IT</td>\n",
       "      <td>APCOA PARKING UK</td>\n",
       "      <td>£40,000 a year</td>\n",
       "      <td>Newcastle upon Tyne</td>\n",
       "      <td>newcastle</td>\n",
       "    </tr>\n",
       "    <tr>\n",
       "      <th>1388</th>\n",
       "      <td>Infrstructure Engineer</td>\n",
       "      <td>NRG</td>\n",
       "      <td>£30,000 - £40,000 a year</td>\n",
       "      <td>Cramlington</td>\n",
       "      <td>newcastle</td>\n",
       "    </tr>\n",
       "    <tr>\n",
       "      <th>1389</th>\n",
       "      <td>Data Developer - Text Mining/Artificial Intell...</td>\n",
       "      <td>Newcastle University</td>\n",
       "      <td>£30,942 - £32,817 a year</td>\n",
       "      <td>Newcastle upon Tyne</td>\n",
       "      <td>newcastle</td>\n",
       "    </tr>\n",
       "    <tr>\n",
       "      <th>1390</th>\n",
       "      <td>Senior Product Manager</td>\n",
       "      <td>Maximus UK</td>\n",
       "      <td>£54,000 - £64,000 a year</td>\n",
       "      <td>Newcastle upon Tyne</td>\n",
       "      <td>newcastle</td>\n",
       "    </tr>\n",
       "    <tr>\n",
       "      <th>1391</th>\n",
       "      <td>Infrastructure Engineer</td>\n",
       "      <td>Jardine Motors Group</td>\n",
       "      <td>£30,000 - £35,000 a year</td>\n",
       "      <td>Sunderland</td>\n",
       "      <td>newcastle</td>\n",
       "    </tr>\n",
       "  </tbody>\n",
       "</table>\n",
       "<p>1392 rows × 5 columns</p>\n",
       "</div>"
      ],
      "text/plain": [
       "                                               jobtitle  \\\n",
       "0              Data Comms Engineer/ Data Cable Engineer   \n",
       "1                                     Big Data Engineer   \n",
       "2     Remote Data Scientist / Machine Learning Engin...   \n",
       "3                             Data and Research Analyst   \n",
       "4            Data Scientist / Machine Learning Engineer   \n",
       "...                                                 ...   \n",
       "1387                              Senior Developer - IT   \n",
       "1388                             Infrstructure Engineer   \n",
       "1389  Data Developer - Text Mining/Artificial Intell...   \n",
       "1390                             Senior Product Manager   \n",
       "1391                            Infrastructure Engineer   \n",
       "\n",
       "                              company                    salary  \\\n",
       "0             Installation Technology         £115 - £125 a day   \n",
       "1                     The App Experts  £30,000 - £35,000 a year   \n",
       "2     GCS Recruitment Specialists Ltd  £40,000 - £90,000 a year   \n",
       "3                  Cancer Research UK            £31,000 a year   \n",
       "4                        Blue Pelican  £50,000 - £65,000 a year   \n",
       "...                               ...                       ...   \n",
       "1387                 APCOA PARKING UK            £40,000 a year   \n",
       "1388                              NRG  £30,000 - £40,000 a year   \n",
       "1389             Newcastle University  £30,942 - £32,817 a year   \n",
       "1390                       Maximus UK  £54,000 - £64,000 a year   \n",
       "1391             Jardine Motors Group  £30,000 - £35,000 a year   \n",
       "\n",
       "                 location       city  \n",
       "0         London WC2R 2LS     london  \n",
       "1                  London     london  \n",
       "2                  London     london  \n",
       "3               Stratford     london  \n",
       "4                  London     london  \n",
       "...                   ...        ...  \n",
       "1387  Newcastle upon Tyne  newcastle  \n",
       "1388          Cramlington  newcastle  \n",
       "1389  Newcastle upon Tyne  newcastle  \n",
       "1390  Newcastle upon Tyne  newcastle  \n",
       "1391           Sunderland  newcastle  \n",
       "\n",
       "[1392 rows x 5 columns]"
      ]
     },
     "execution_count": 7,
     "metadata": {},
     "output_type": "execute_result"
    }
   ],
   "source": [
    "#Get list of index / create boolean filter for job titles that do not match any in keyword list \n",
    "#I will only be looking at jobs with following keyword arguements. \n",
    "\n",
    "title_keyword_list = ['engineer','engineering','analyst','analysts','analytics','scientist','machine','data',\n",
    "                      'artificial','intelligence','developer','insights', 'python','sql','software','cloud',\n",
    "                      'architect', 'supply','database', 'ai','research','researcher','it','system','systems',\n",
    "                      'product','mining']\n",
    "mask_list = []\n",
    "index_list = []\n",
    "check_list = []  #the jobtitles that got cleaned\n",
    "for index, title in enumerate(df_raw.jobtitle.str.lower().replace('(\\W)',' ',regex=True)):\n",
    "    counter_list = []\n",
    "    for word in title.split():   #checks if any word in string matches the list of keywords\n",
    "        if word in title_keyword_list:\n",
    "            counter_list.append(True)  #adds to True to the counter if matches\n",
    "        else:\n",
    "            counter_list.append(False) #add to False to the counter if no match\n",
    "    if sum(counter_list) > 0: #if any word matched (counter sum > 0) append True to mask list\n",
    "        mask_list.append(True)\n",
    "        index_list.append(index) #also append index to index list\n",
    "    else:\n",
    "        mask_list.append(False)  #if no word matched i.e sum(counter) = 0 append False \n",
    "        check_list.append(title)\n",
    "        \n",
    "print(\"index list length: \",len(index_list))\n",
    "print(\"mask list length: \",len(mask_list))\n",
    "\n",
    "df_raw = df_raw[mask_list].copy()  #applying boolean mask to df_raw\n",
    "df_raw.reset_index(inplace=True,drop=True)\n",
    "df_raw"
   ]
  },
  {
   "cell_type": "markdown",
   "metadata": {
    "focus": false,
    "id": "7d4bc860-b214-4f75-9cd0-b234830b1ec2"
   },
   "source": [
    "Write a function that takes a salary string and converts it to a number, averaging a salary range if necessary."
   ]
  },
  {
   "cell_type": "code",
   "execution_count": 8,
   "metadata": {},
   "outputs": [
    {
     "name": "stdout",
     "output_type": "stream",
     "text": [
      "n. of values with no salary description : 0\n"
     ]
    }
   ],
   "source": [
    "#creating function to extract hour/day/week/month/year\n",
    "def salary_type(x):\n",
    "    try:\n",
    "        if 'hour' in x:\n",
    "            return 'hourly','short_term'\n",
    "        elif 'day' in x:\n",
    "            return 'daily','short_term'\n",
    "        elif 'week' in x:\n",
    "            return 'weekly','short_term'        \n",
    "        elif 'month' in x:\n",
    "            return 'monthly','long_term'\n",
    "        elif 'year' in x:\n",
    "            return 'yearly','long_term'\n",
    "        else:\n",
    "            return 'None','None'\n",
    "    except:\n",
    "        pass\n",
    "    \n",
    "#creating new feature for type salary displayed as day, month or year\n",
    "\n",
    "df_raw['salary_pay_type'] = df_raw.salary.map(lambda x: salary_type(x)[0]) #extract the salary_pay_type \n",
    "df_raw['salary_security'] = df_raw.salary.map(lambda x: salary_type(x)[1]) #extract the salary_security\n",
    "print(\"n. of values with no salary description :\",sum(df_raw.salary_pay_type == 'None'))"
   ]
  },
  {
   "cell_type": "code",
   "execution_count": 9,
   "metadata": {
    "scrolled": true
   },
   "outputs": [],
   "source": [
    "#extract average from salary range\n",
    "def extract_avg(salary):    \n",
    "    salary = salary.replace(',','')\n",
    "    if '.' in salary:\n",
    "        salary = re.findall('\\d+[.]\\d+',salary)\n",
    "    else:\n",
    "        salary = re.findall('£(\\d+,*\\d+)|£(\\d+)',salary)\n",
    "        salary = [x for sublist in salary for x in sublist]\n",
    "        while '' in salary:\n",
    "            salary.remove('')\n",
    "    if len(salary) > 1:\n",
    "        salary = (sum([float(x) for x in salary])/2)\n",
    "    else:\n",
    "        salary = float(salary[0])\n",
    "    return int(salary)\n",
    "\n",
    "#convert salary into yearly salary taking into account salary ranges\n",
    "def salary_conversion(x):\n",
    "    if 'hour' in x:\n",
    "        sal_hr = extract_avg(x)     #call extract_avg function to take care of ranges\n",
    "        sal_yr = sal_hr*40*50       #hour payment: assume 40 hours a week, 50 weeks a year\n",
    "        return int(sal_yr)\n",
    "    elif 'day' in x:\n",
    "        return extract_avg(x)*5*50  #day payment: assume 5 days a week, 50 weeks a year \n",
    "    elif 'week' in x:\n",
    "        return extract_avg(x)*50    #week payment: assume 50 weeks a year    \n",
    "    elif 'month' in x:\n",
    "        return extract_avg(x)*11.5  #month payment: assume 11.5 months per year (~50 weeks)\n",
    "    elif 'year' in x:\n",
    "        return extract_avg(x)\n",
    "\n",
    "df_raw.salary = df_raw.salary.apply(lambda x : salary_conversion(x))"
   ]
  },
  {
   "cell_type": "markdown",
   "metadata": {},
   "source": [
    "- Feature extraction for job position level"
   ]
  },
  {
   "cell_type": "code",
   "execution_count": 10,
   "metadata": {
    "scrolled": false
   },
   "outputs": [],
   "source": [
    "#classified into 4 position levels (from indeed)\n",
    "import re\n",
    "entry = ['intern','internship','junior','jr','graduate','entry','apprentice','apprenticeship','trainee','entry']\n",
    "senior = ['senior','sr','exec','executive','head','chief','officer','director','deputy','snr']\n",
    "mid_level = ['adviser','advisor','lead','manager','principal','mid','higher','main','management','managing','advanced']\n",
    "intermediate = [] #anything not included above\n",
    "\n",
    "def get_position_level(string):\n",
    "    x = re.sub('(\\W)',' ',string.lower()).split()  #take string and replace all but (a-z, A-Z, 0-9), split into list\n",
    "    if bool([True for word in entry if(word in x)]): #checks if any word in x list matches corresponding list above\n",
    "        return 'entry'                               #gives True of False statement \n",
    "    elif bool([True for word in senior if(word in x)]):\n",
    "        return 'senior'\n",
    "    elif bool([True for word in mid_level if(word in x)]):\n",
    "        return 'mid_level'\n",
    "    else:\n",
    "        return 'intermediate'\n",
    "\n",
    "#add new position level feature \n",
    "df_raw['position_level'] = df_raw.jobtitle.apply(lambda x : get_position_level(x))"
   ]
  },
  {
   "cell_type": "markdown",
   "metadata": {
    "focus": false,
    "id": "c7631f51-07f2-4c79-a093-3e9bc7849a48"
   },
   "source": [
    "We want to predict a binary variable - whether the salary was low or high. \n",
    "- Use median salary reference point to convert salary into a binary variable.\n",
    "- 'high' or 'low' if above or below median salary."
   ]
  },
  {
   "cell_type": "code",
   "execution_count": 11,
   "metadata": {},
   "outputs": [
    {
     "data": {
      "text/plain": [
       "38300.0"
      ]
     },
     "execution_count": 11,
     "metadata": {},
     "output_type": "execute_result"
    }
   ],
   "source": [
    "df_raw.salary.median()"
   ]
  },
  {
   "cell_type": "code",
   "execution_count": 12,
   "metadata": {
    "focus": false,
    "id": "c20d2498-151c-44c3-a453-3a333c79a0ac"
   },
   "outputs": [],
   "source": [
    "salary_median = df_raw.salary.median()\n",
    "df_raw['salary_level'] = df_raw.salary.map(lambda x : 'high' if x >= salary_median else 'low' )"
   ]
  },
  {
   "cell_type": "code",
   "execution_count": 13,
   "metadata": {},
   "outputs": [],
   "source": [
    "# save clean dataframe to csv\n",
    "df_raw.to_csv('df_clean.csv')"
   ]
  }
 ],
 "metadata": {
  "kernelspec": {
   "display_name": "Python 3 (ipykernel)",
   "language": "python",
   "name": "python3"
  },
  "language_info": {
   "codemirror_mode": {
    "name": "ipython",
    "version": 3
   },
   "file_extension": ".py",
   "mimetype": "text/x-python",
   "name": "python",
   "nbconvert_exporter": "python",
   "pygments_lexer": "ipython3",
   "version": "3.7.15"
  },
  "toc": {
   "base_numbering": 1,
   "nav_menu": {},
   "number_sections": false,
   "sideBar": true,
   "skip_h1_title": true,
   "title_cell": "Table of Contents",
   "title_sidebar": "Contents",
   "toc_cell": false,
   "toc_position": {},
   "toc_section_display": "block",
   "toc_window_display": false
  },
  "varInspector": {
   "cols": {
    "lenName": 16,
    "lenType": 16,
    "lenVar": 40
   },
   "kernels_config": {
    "python": {
     "delete_cmd_postfix": "",
     "delete_cmd_prefix": "del ",
     "library": "var_list.py",
     "varRefreshCmd": "print(var_dic_list())"
    },
    "r": {
     "delete_cmd_postfix": ") ",
     "delete_cmd_prefix": "rm(",
     "library": "var_list.r",
     "varRefreshCmd": "cat(var_dic_list()) "
    }
   },
   "types_to_exclude": [
    "module",
    "function",
    "builtin_function_or_method",
    "instance",
    "_Feature"
   ],
   "window_display": false
  }
 },
 "nbformat": 4,
 "nbformat_minor": 1
}
